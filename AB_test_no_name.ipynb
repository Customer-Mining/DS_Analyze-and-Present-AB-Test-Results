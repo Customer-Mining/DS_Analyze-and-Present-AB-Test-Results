{
 "cells": [
  {
   "cell_type": "markdown",
   "metadata": {},
   "source": [
    "# Data Science Analyze and Present A/B Test Results\n",
    "\n",
    "-------- company recently introduced a new bidding type, “average bidding”, as an alternative to its exisiting bidding\n",
    "type, called “maximum bidding”. One of our clients, --------.com, has decided to test this new feature\n",
    "and wants to conduct an A/B test to understand if average bidding brings more conversions than maximum\n",
    "bidding.\n",
    "\n",
    "In this A/B test, --------.com randomly splits its audience into two equally sized groups, e.g. the test\n",
    "and the control group. A --------- company ad campaign with “maximum bidding” is served to “control group” and\n",
    "another campaign with “average bidding” is served to the “test group”.\n",
    "\n",
    "The A/B test has run for 1 month and --------.com now expects you to analyze and present the results\n",
    "of this A/B test.\n",
    "\n",
    "\n",
    "\n",
    "##### You should answer the following questions in your presentation:\n",
    "\n",
    "1. How would you define the hypothesis of this A/B test?\n",
    "2. Can we conclude statistically significant results?\n",
    "3. Which statistical test did you use, and why?\n",
    "4. Based on your answer to Question 2, what would be your recommendation to client?\n",
    "\n",
    "\n",
    "##### Hints:\n",
    "1. Your presentation should last about 15 minutes, and should be presented in English.\n",
    "2. The ultimate success metric for HotelsForYou.com is Number of Purchases. Therefore, you should focus on Purchase metrics for statistical testing.\n",
    "3. Explain the concept of statistical testing for a non-technical audience.\n",
    "4. The customer journey for this campaign is:\n",
    "    1. User sees an ad (Impression)\n",
    "    2. User clicks on the website link on the ad (Website Click)\n",
    "    3. User makes a search on the website (Search)\n",
    "    4. User views details of a product (View Content)\n",
    "    5. User adds the product to the cart (Add to Cart)\n",
    "    6. User purchases the product (Purchase)\n",
    "5. Use visualizations to compare test and control group metrics, such as Website Click Through Rate, Cost per Action, and Conversion Rates in addition to Purchase numbers.\n",
    "6. If you see trends, anomalies or other patterns, discuss these in your presentation.\n",
    "7. You can make assumptions if needed.\n",
    "\n",
    "\n",
    "**Note: I translated also Turkish language**"
   ]
  },
  {
   "cell_type": "markdown",
   "metadata": {},
   "source": [
    "## 1. Import libraries"
   ]
  },
  {
   "cell_type": "code",
   "execution_count": 1,
   "metadata": {},
   "outputs": [],
   "source": [
    "import pandas as pd\n",
    "import numpy as np\n",
    "import seaborn as sns\n",
    "import matplotlib.pyplot as plt\n",
    "from scipy import stats\n",
    "from scipy.stats import skewtest\n",
    "from scipy.stats import median_test\n",
    "from scipy.stats import shapiro\n",
    "import pylab\n",
    "from sklearn.neighbors import LocalOutlierFactor\n",
    "from scipy.stats import levene\n",
    "from statsmodels.stats.proportion import proportions_ztest\n",
    "from sklearn.impute import KNNImputer\n",
    "\n",
    "pd.set_option(\"display.max_columns\",None);\n",
    "pd.set_option(\"display.max_rows\",None);"
   ]
  },
  {
   "cell_type": "markdown",
   "metadata": {},
   "source": [
    "## 2. Functions"
   ]
  },
  {
   "cell_type": "code",
   "execution_count": 2,
   "metadata": {},
   "outputs": [],
   "source": [
    "def read_data() :\n",
    "    #Maximum Bidding(Existing)\n",
    "    control = pd.read_excel(\"AB_Case_Study.xlsx\", sheet_name=\"Control Group\")\n",
    "    #Average Bidding(New)\n",
    "    test = pd.read_excel(\"AB_Case_Study.xlsx\", sheet_name=\"Test Group\")\n",
    "    \n",
    "    #control dataframeinde exceldeki not kısmından gelen NaN value içeren indexler uçuruldu\n",
    "    control.drop(control.index[[30,31]], inplace = True)\n",
    "    \n",
    "    return control, test\n",
    "\n",
    "def get_catvar(df) :\n",
    "    cat_col = [col for col in df.columns if ( (df[col].dtype == 'object') | (df[col].dtype == 'bool'))]\n",
    "    kat_df = pd.DataFrame(df[cat_col], index = df[cat_col].index)\n",
    "    return df, kat_df, cat_col\n",
    "\n",
    "def get_numvar(cat_col,df):\n",
    "    num_col = [c for c in df.columns if c not in cat_col]\n",
    "    num_df = pd.DataFrame(df[num_col], index = df[num_col].index)\n",
    "    return df, num_df, num_col\n",
    "\n",
    "def fill_NaNValue(num_control) :\n",
    "    cols = num_control.columns\n",
    "    imputer = KNNImputer(n_neighbors=8)\n",
    "    num_control = imputer.fit_transform(num_control)\n",
    "    num_control=pd.DataFrame(num_control,columns=cols)\n",
    "    return num_control\n",
    "\n",
    "def convert_datatype(control):\n",
    "    control = control.astype({'# of Impressions' : 'int64', \n",
    "                        'Reach': 'int64', \n",
    "                        '# of Website Clicks' : 'int64', \n",
    "                        '# of Searches': 'int64', \n",
    "                        '# of View Content': 'int64', \n",
    "                        '# of Add to Cart': 'int64', \n",
    "                        '# of Purchase' : 'int64'})\n",
    "    return control\n",
    "\n",
    "def outliers(control, test):\n",
    "    clf= LocalOutlierFactor(n_neighbors = 20, contamination = 0.1)\n",
    "    clf.fit_predict(test.iloc[:,2:])[0:10]\n",
    "    \n",
    "    test_scores=clf.negative_outlier_factor_\n",
    "    print(\"Test Score: \" , np.sort(test_scores)[0:20])\n",
    "    sns.boxplot(test_scores);\n",
    "    \n",
    "    threshold=np.sort(test_scores)[4]\n",
    "    print(\"Threshold score: \", threshold)\n",
    "\n",
    "    test.loc[test_scores < -1.50].index\n",
    "    test.loc[test_scores == threshold]\n",
    "    \n",
    "    test.iloc[0,2:]=[2742.245945,79574,57168,3086,1263,1098,226,277]\n",
    "    sns.boxplot(x=\"variable\", y=\"value\", data=pd.melt(test.iloc[:,3:5]));\n",
    "    sns.boxplot(x=\"variable\", y=\"value\", data=pd.melt(test.iloc[:,5:6]));\n",
    "    sns.boxplot(x=\"variable\", y=\"value\", data=pd.melt(test.iloc[:,6:]));\n",
    "\n",
    "\n",
    "def feature_engineering(control, test):\n",
    "\n",
    "    control[\"Website Click Through Rate\"] = control[\"# of Website Clicks\"] / control[\"# of Impressions\"] * 100\n",
    "    test[\"Website Click Through Rate\"] = test[\"# of Website Clicks\"] / test[\"# of Impressions\"] * 100\n",
    "\n",
    "    control[\"Number of Action\"] = control[\"# of Impressions\"] + control[\"# of Website Clicks\"] + control[\"# of Searches\"] + control[\"# of View Content\"] + control[\"# of Add to Cart\"] + control[\"# of Purchase\"]\n",
    "    test[\"Number of Action\"] = test[\"# of Impressions\"] + test[\"# of Website Clicks\"] + test[\"# of Searches\"] + test[\"# of View Content\"] + test[\"# of Add to Cart\"] + test[\"# of Purchase\"]\n",
    "\n",
    "    control[\"Cost per Action\"] = control[\"Spend [USD]\"] / control[\"Number of Action\"]\n",
    "    test[\"Cost per Action\"] = test[\"Spend [USD]\"] / test[\"Number of Action\"]\n",
    "\n",
    "    control[\"Conversion Rate\"] = control[\"Number of Action\"] / control[\"# of Website Clicks\"] * 100\n",
    "    test[\"Conversion Rate\"] = test[\"Number of Action\"] / test[\"# of Website Clicks\"] * 100\n",
    "    \n",
    "    return control, test\n",
    "\n",
    "def data_prepare_for_visualization(control,test):\n",
    "    control_nop = pd.DataFrame(control[\"# of Purchase\"])\n",
    "    test_nop = pd.DataFrame(test[\"# of Purchase\"])\n",
    "\n",
    "    control_wctr= pd.DataFrame(control[\"Website Click Through Rate\"])\n",
    "    test_wctr= pd.DataFrame(test[\"Website Click Through Rate\"]) \n",
    "\n",
    "    control_cpa= pd.DataFrame(control[\"Cost per Action\"]) \n",
    "    test_cpa= pd.DataFrame(test[\"Cost per Action\"])\n",
    "\n",
    "    control_cr= pd.DataFrame(control[\"Conversion Rate\"])\n",
    "    test_cr= pd.DataFrame(test[\"Conversion Rate\"])\n",
    "    \n",
    "    Group_A = pd.concat([control_nop, control_wctr, control_cpa, control_cr], axis = 1)\n",
    "    Group_A[\"Group\"] = \"A (MaximumBidding)\"\n",
    "\n",
    "    Group_B = pd.concat([test_nop, test_wctr, test_cpa, test_cr], axis = 1)\n",
    "    Group_B[\"Group\"] = \"B (AverageBidding)\"\n",
    "\n",
    "    #Tum veri\n",
    "    AB = pd.concat([Group_A, Group_B])\n",
    "    AB\n",
    "    return AB, control_nop, test_nop\n",
    "\n",
    "def data_prepare_for_hypothesis_testing(control_nop, test_nop):\n",
    "    controlB = pd.concat([control_nop, test_nop], axis = 1)\n",
    "    controlB.columns = [\"A\",\"B\"]\n",
    "    return controlB\n",
    "    \n",
    "def num_boxplot(fig, axarr, boyut, cols, hue):\n",
    "    for i in boyut :\n",
    "        for j in boyut :\n",
    "            for c in cols :\n",
    "                sns.boxplot(y=c, x = hue, hue = hue, data = AB, ax=axarr[i][j])\n",
    "                cols.remove(c)\n",
    "                break\n",
    "                    \n",
    "def show_boxplot(nrows, ncols, boyut, cols, figsize):\n",
    "    fig, axarr = plt.subplots(nrows, ncols, figsize=figsize)\n",
    "    num_boxplot(fig, axarr, boyut, cols, \"Group\")\n",
    "    \n",
    "\n",
    "def checkReject(p_value, alpha = 0.05):\n",
    "    if p_value < alpha :\n",
    "        print(f'{p_value} < alpha(0.05) so >>> H0 REJECTED <<< (H0 hipotezi REDEDILDI)')\n",
    "   \n",
    "    elif p_value > alpha :\n",
    "        print(f'{p_value} > alpha(0.05) so >>> H0 CAN\\'T BE REJECTED <<< (H0 hipotezi REDEDILEMEDI)')"
   ]
  },
  {
   "cell_type": "markdown",
   "metadata": {},
   "source": [
    "## 3. Data Preparation"
   ]
  },
  {
   "cell_type": "code",
   "execution_count": 3,
   "metadata": {},
   "outputs": [],
   "source": [
    "control, test = read_data()"
   ]
  },
  {
   "cell_type": "code",
   "execution_count": 4,
   "metadata": {},
   "outputs": [
    {
     "data": {
      "text/html": [
       "<div>\n",
       "<style scoped>\n",
       "    .dataframe tbody tr th:only-of-type {\n",
       "        vertical-align: middle;\n",
       "    }\n",
       "\n",
       "    .dataframe tbody tr th {\n",
       "        vertical-align: top;\n",
       "    }\n",
       "\n",
       "    .dataframe thead th {\n",
       "        text-align: right;\n",
       "    }\n",
       "</style>\n",
       "<table border=\"1\" class=\"dataframe\">\n",
       "  <thead>\n",
       "    <tr style=\"text-align: right;\">\n",
       "      <th></th>\n",
       "      <th>Campaign Name</th>\n",
       "      <th>Date</th>\n",
       "      <th>Spend [USD]</th>\n",
       "      <th># of Impressions</th>\n",
       "      <th>Reach</th>\n",
       "      <th># of Website Clicks</th>\n",
       "      <th># of Searches</th>\n",
       "      <th># of View Content</th>\n",
       "      <th># of Add to Cart</th>\n",
       "      <th># of Purchase</th>\n",
       "    </tr>\n",
       "  </thead>\n",
       "  <tbody>\n",
       "    <tr>\n",
       "      <td>0</td>\n",
       "      <td>Control Campaign</td>\n",
       "      <td>2017.01.01</td>\n",
       "      <td>2436.124529</td>\n",
       "      <td>90572.0</td>\n",
       "      <td>75440.0</td>\n",
       "      <td>4150.0</td>\n",
       "      <td>1657.0</td>\n",
       "      <td>1541.0</td>\n",
       "      <td>566.0</td>\n",
       "      <td>383.0</td>\n",
       "    </tr>\n",
       "    <tr>\n",
       "      <td>1</td>\n",
       "      <td>Control Campaign</td>\n",
       "      <td>2017.01.02</td>\n",
       "      <td>2621.043006</td>\n",
       "      <td>129612.0</td>\n",
       "      <td>95667.0</td>\n",
       "      <td>6387.0</td>\n",
       "      <td>2265.0</td>\n",
       "      <td>1563.0</td>\n",
       "      <td>1577.0</td>\n",
       "      <td>644.0</td>\n",
       "    </tr>\n",
       "    <tr>\n",
       "      <td>2</td>\n",
       "      <td>Control Campaign</td>\n",
       "      <td>2017.01.03</td>\n",
       "      <td>2427.021083</td>\n",
       "      <td>132803.0</td>\n",
       "      <td>121762.0</td>\n",
       "      <td>6887.0</td>\n",
       "      <td>3100.0</td>\n",
       "      <td>2048.0</td>\n",
       "      <td>1381.0</td>\n",
       "      <td>639.0</td>\n",
       "    </tr>\n",
       "    <tr>\n",
       "      <td>3</td>\n",
       "      <td>Control Campaign</td>\n",
       "      <td>2017.01.04</td>\n",
       "      <td>2565.414978</td>\n",
       "      <td>120570.0</td>\n",
       "      <td>104011.0</td>\n",
       "      <td>6478.0</td>\n",
       "      <td>2579.0</td>\n",
       "      <td>2083.0</td>\n",
       "      <td>1650.0</td>\n",
       "      <td>649.0</td>\n",
       "    </tr>\n",
       "    <tr>\n",
       "      <td>4</td>\n",
       "      <td>Control Campaign</td>\n",
       "      <td>2017.01.05</td>\n",
       "      <td>2648.683326</td>\n",
       "      <td>95822.0</td>\n",
       "      <td>69059.0</td>\n",
       "      <td>4532.0</td>\n",
       "      <td>1823.0</td>\n",
       "      <td>1220.0</td>\n",
       "      <td>940.0</td>\n",
       "      <td>455.0</td>\n",
       "    </tr>\n",
       "  </tbody>\n",
       "</table>\n",
       "</div>"
      ],
      "text/plain": [
       "      Campaign Name        Date  Spend [USD]  # of Impressions     Reach  \\\n",
       "0  Control Campaign  2017.01.01  2436.124529           90572.0   75440.0   \n",
       "1  Control Campaign  2017.01.02  2621.043006          129612.0   95667.0   \n",
       "2  Control Campaign  2017.01.03  2427.021083          132803.0  121762.0   \n",
       "3  Control Campaign  2017.01.04  2565.414978          120570.0  104011.0   \n",
       "4  Control Campaign  2017.01.05  2648.683326           95822.0   69059.0   \n",
       "\n",
       "   # of Website Clicks  # of Searches  # of View Content  # of Add to Cart  \\\n",
       "0               4150.0         1657.0             1541.0             566.0   \n",
       "1               6387.0         2265.0             1563.0            1577.0   \n",
       "2               6887.0         3100.0             2048.0            1381.0   \n",
       "3               6478.0         2579.0             2083.0            1650.0   \n",
       "4               4532.0         1823.0             1220.0             940.0   \n",
       "\n",
       "   # of Purchase  \n",
       "0          383.0  \n",
       "1          644.0  \n",
       "2          639.0  \n",
       "3          649.0  \n",
       "4          455.0  "
      ]
     },
     "execution_count": 4,
     "metadata": {},
     "output_type": "execute_result"
    }
   ],
   "source": [
    "control.head()"
   ]
  },
  {
   "cell_type": "code",
   "execution_count": 5,
   "metadata": {},
   "outputs": [
    {
     "data": {
      "text/html": [
       "<div>\n",
       "<style scoped>\n",
       "    .dataframe tbody tr th:only-of-type {\n",
       "        vertical-align: middle;\n",
       "    }\n",
       "\n",
       "    .dataframe tbody tr th {\n",
       "        vertical-align: top;\n",
       "    }\n",
       "\n",
       "    .dataframe thead th {\n",
       "        text-align: right;\n",
       "    }\n",
       "</style>\n",
       "<table border=\"1\" class=\"dataframe\">\n",
       "  <thead>\n",
       "    <tr style=\"text-align: right;\">\n",
       "      <th></th>\n",
       "      <th>Campaign Name</th>\n",
       "      <th>Date</th>\n",
       "      <th>Spend [USD]</th>\n",
       "      <th># of Impressions</th>\n",
       "      <th>Reach</th>\n",
       "      <th># of Website Clicks</th>\n",
       "      <th># of Searches</th>\n",
       "      <th># of View Content</th>\n",
       "      <th># of Add to Cart</th>\n",
       "      <th># of Purchase</th>\n",
       "    </tr>\n",
       "  </thead>\n",
       "  <tbody>\n",
       "    <tr>\n",
       "      <td>0</td>\n",
       "      <td>Test Campaign</td>\n",
       "      <td>2017.01.01</td>\n",
       "      <td>2335.586267</td>\n",
       "      <td>160244</td>\n",
       "      <td>121551</td>\n",
       "      <td>8223</td>\n",
       "      <td>2989</td>\n",
       "      <td>2949</td>\n",
       "      <td>1371</td>\n",
       "      <td>913</td>\n",
       "    </tr>\n",
       "    <tr>\n",
       "      <td>1</td>\n",
       "      <td>Test Campaign</td>\n",
       "      <td>2017.01.02</td>\n",
       "      <td>2899.490621</td>\n",
       "      <td>100793</td>\n",
       "      <td>68241</td>\n",
       "      <td>4972</td>\n",
       "      <td>2162</td>\n",
       "      <td>1388</td>\n",
       "      <td>1253</td>\n",
       "      <td>510</td>\n",
       "    </tr>\n",
       "    <tr>\n",
       "      <td>2</td>\n",
       "      <td>Test Campaign</td>\n",
       "      <td>2017.01.03</td>\n",
       "      <td>3031.740149</td>\n",
       "      <td>89525</td>\n",
       "      <td>83450</td>\n",
       "      <td>3514</td>\n",
       "      <td>1365</td>\n",
       "      <td>1251</td>\n",
       "      <td>995</td>\n",
       "      <td>391</td>\n",
       "    </tr>\n",
       "    <tr>\n",
       "      <td>3</td>\n",
       "      <td>Test Campaign</td>\n",
       "      <td>2017.01.04</td>\n",
       "      <td>2794.847648</td>\n",
       "      <td>110122</td>\n",
       "      <td>89985</td>\n",
       "      <td>4411</td>\n",
       "      <td>1533</td>\n",
       "      <td>1134</td>\n",
       "      <td>951</td>\n",
       "      <td>434</td>\n",
       "    </tr>\n",
       "    <tr>\n",
       "      <td>4</td>\n",
       "      <td>Test Campaign</td>\n",
       "      <td>2017.01.05</td>\n",
       "      <td>2201.845423</td>\n",
       "      <td>122204</td>\n",
       "      <td>84000</td>\n",
       "      <td>5165</td>\n",
       "      <td>1582</td>\n",
       "      <td>1007</td>\n",
       "      <td>810</td>\n",
       "      <td>492</td>\n",
       "    </tr>\n",
       "  </tbody>\n",
       "</table>\n",
       "</div>"
      ],
      "text/plain": [
       "   Campaign Name        Date  Spend [USD]  # of Impressions   Reach  \\\n",
       "0  Test Campaign  2017.01.01  2335.586267            160244  121551   \n",
       "1  Test Campaign  2017.01.02  2899.490621            100793   68241   \n",
       "2  Test Campaign  2017.01.03  3031.740149             89525   83450   \n",
       "3  Test Campaign  2017.01.04  2794.847648            110122   89985   \n",
       "4  Test Campaign  2017.01.05  2201.845423            122204   84000   \n",
       "\n",
       "   # of Website Clicks  # of Searches  # of View Content  # of Add to Cart  \\\n",
       "0                 8223           2989               2949              1371   \n",
       "1                 4972           2162               1388              1253   \n",
       "2                 3514           1365               1251               995   \n",
       "3                 4411           1533               1134               951   \n",
       "4                 5165           1582               1007               810   \n",
       "\n",
       "   # of Purchase  \n",
       "0            913  \n",
       "1            510  \n",
       "2            391  \n",
       "3            434  \n",
       "4            492  "
      ]
     },
     "execution_count": 5,
     "metadata": {},
     "output_type": "execute_result"
    }
   ],
   "source": [
    "test.head()"
   ]
  },
  {
   "cell_type": "code",
   "execution_count": 6,
   "metadata": {},
   "outputs": [
    {
     "data": {
      "text/plain": [
       "Campaign Name          0\n",
       "Date                   0\n",
       "Spend [USD]            0\n",
       "# of Impressions       1\n",
       "Reach                  1\n",
       "# of Website Clicks    1\n",
       "# of Searches          1\n",
       "# of View Content      1\n",
       "# of Add to Cart       1\n",
       "# of Purchase          1\n",
       "dtype: int64"
      ]
     },
     "execution_count": 6,
     "metadata": {},
     "output_type": "execute_result"
    }
   ],
   "source": [
    "control.isnull().sum()"
   ]
  },
  {
   "cell_type": "code",
   "execution_count": 7,
   "metadata": {},
   "outputs": [
    {
     "name": "stdout",
     "output_type": "stream",
     "text": [
      "<class 'pandas.core.frame.DataFrame'>\n",
      "Int64Index: 30 entries, 0 to 29\n",
      "Data columns (total 10 columns):\n",
      "Campaign Name          30 non-null object\n",
      "Date                   30 non-null object\n",
      "Spend [USD]            30 non-null float64\n",
      "# of Impressions       29 non-null float64\n",
      "Reach                  29 non-null float64\n",
      "# of Website Clicks    29 non-null float64\n",
      "# of Searches          29 non-null float64\n",
      "# of View Content      29 non-null float64\n",
      "# of Add to Cart       29 non-null float64\n",
      "# of Purchase          29 non-null float64\n",
      "dtypes: float64(8), object(2)\n",
      "memory usage: 2.6+ KB\n"
     ]
    }
   ],
   "source": [
    "control.info()"
   ]
  },
  {
   "cell_type": "code",
   "execution_count": 8,
   "metadata": {},
   "outputs": [],
   "source": [
    "#Kategorik Değişkenler\n",
    "df, kat_control, cat_col_A = get_catvar(control)\n",
    "\n",
    "#Numerik Değişkenler\n",
    "df, num_control, num_col_A = get_numvar(cat_col_A, df)"
   ]
  },
  {
   "cell_type": "code",
   "execution_count": 9,
   "metadata": {},
   "outputs": [
    {
     "data": {
      "text/html": [
       "<div>\n",
       "<style scoped>\n",
       "    .dataframe tbody tr th:only-of-type {\n",
       "        vertical-align: middle;\n",
       "    }\n",
       "\n",
       "    .dataframe tbody tr th {\n",
       "        vertical-align: top;\n",
       "    }\n",
       "\n",
       "    .dataframe thead th {\n",
       "        text-align: right;\n",
       "    }\n",
       "</style>\n",
       "<table border=\"1\" class=\"dataframe\">\n",
       "  <thead>\n",
       "    <tr style=\"text-align: right;\">\n",
       "      <th></th>\n",
       "      <th>Campaign Name</th>\n",
       "      <th>Date</th>\n",
       "    </tr>\n",
       "  </thead>\n",
       "  <tbody>\n",
       "    <tr>\n",
       "      <td>0</td>\n",
       "      <td>Control Campaign</td>\n",
       "      <td>2017.01.01</td>\n",
       "    </tr>\n",
       "    <tr>\n",
       "      <td>1</td>\n",
       "      <td>Control Campaign</td>\n",
       "      <td>2017.01.02</td>\n",
       "    </tr>\n",
       "    <tr>\n",
       "      <td>2</td>\n",
       "      <td>Control Campaign</td>\n",
       "      <td>2017.01.03</td>\n",
       "    </tr>\n",
       "    <tr>\n",
       "      <td>3</td>\n",
       "      <td>Control Campaign</td>\n",
       "      <td>2017.01.04</td>\n",
       "    </tr>\n",
       "    <tr>\n",
       "      <td>4</td>\n",
       "      <td>Control Campaign</td>\n",
       "      <td>2017.01.05</td>\n",
       "    </tr>\n",
       "  </tbody>\n",
       "</table>\n",
       "</div>"
      ],
      "text/plain": [
       "      Campaign Name        Date\n",
       "0  Control Campaign  2017.01.01\n",
       "1  Control Campaign  2017.01.02\n",
       "2  Control Campaign  2017.01.03\n",
       "3  Control Campaign  2017.01.04\n",
       "4  Control Campaign  2017.01.05"
      ]
     },
     "execution_count": 9,
     "metadata": {},
     "output_type": "execute_result"
    }
   ],
   "source": [
    "kat_control.head()"
   ]
  },
  {
   "cell_type": "markdown",
   "metadata": {},
   "source": [
    "If we look at the 12th line, we can see the NaN value."
   ]
  },
  {
   "cell_type": "code",
   "execution_count": 10,
   "metadata": {},
   "outputs": [
    {
     "data": {
      "text/html": [
       "<div>\n",
       "<style scoped>\n",
       "    .dataframe tbody tr th:only-of-type {\n",
       "        vertical-align: middle;\n",
       "    }\n",
       "\n",
       "    .dataframe tbody tr th {\n",
       "        vertical-align: top;\n",
       "    }\n",
       "\n",
       "    .dataframe thead th {\n",
       "        text-align: right;\n",
       "    }\n",
       "</style>\n",
       "<table border=\"1\" class=\"dataframe\">\n",
       "  <thead>\n",
       "    <tr style=\"text-align: right;\">\n",
       "      <th></th>\n",
       "      <th>Spend [USD]</th>\n",
       "      <th># of Impressions</th>\n",
       "      <th>Reach</th>\n",
       "      <th># of Website Clicks</th>\n",
       "      <th># of Searches</th>\n",
       "      <th># of View Content</th>\n",
       "      <th># of Add to Cart</th>\n",
       "      <th># of Purchase</th>\n",
       "    </tr>\n",
       "  </thead>\n",
       "  <tbody>\n",
       "    <tr>\n",
       "      <td>0</td>\n",
       "      <td>2436.124529</td>\n",
       "      <td>90572.0</td>\n",
       "      <td>75440.0</td>\n",
       "      <td>4150.0</td>\n",
       "      <td>1657.0</td>\n",
       "      <td>1541.0</td>\n",
       "      <td>566.0</td>\n",
       "      <td>383.0</td>\n",
       "    </tr>\n",
       "    <tr>\n",
       "      <td>1</td>\n",
       "      <td>2621.043006</td>\n",
       "      <td>129612.0</td>\n",
       "      <td>95667.0</td>\n",
       "      <td>6387.0</td>\n",
       "      <td>2265.0</td>\n",
       "      <td>1563.0</td>\n",
       "      <td>1577.0</td>\n",
       "      <td>644.0</td>\n",
       "    </tr>\n",
       "    <tr>\n",
       "      <td>2</td>\n",
       "      <td>2427.021083</td>\n",
       "      <td>132803.0</td>\n",
       "      <td>121762.0</td>\n",
       "      <td>6887.0</td>\n",
       "      <td>3100.0</td>\n",
       "      <td>2048.0</td>\n",
       "      <td>1381.0</td>\n",
       "      <td>639.0</td>\n",
       "    </tr>\n",
       "    <tr>\n",
       "      <td>3</td>\n",
       "      <td>2565.414978</td>\n",
       "      <td>120570.0</td>\n",
       "      <td>104011.0</td>\n",
       "      <td>6478.0</td>\n",
       "      <td>2579.0</td>\n",
       "      <td>2083.0</td>\n",
       "      <td>1650.0</td>\n",
       "      <td>649.0</td>\n",
       "    </tr>\n",
       "    <tr>\n",
       "      <td>4</td>\n",
       "      <td>2648.683326</td>\n",
       "      <td>95822.0</td>\n",
       "      <td>69059.0</td>\n",
       "      <td>4532.0</td>\n",
       "      <td>1823.0</td>\n",
       "      <td>1220.0</td>\n",
       "      <td>940.0</td>\n",
       "      <td>455.0</td>\n",
       "    </tr>\n",
       "    <tr>\n",
       "      <td>5</td>\n",
       "      <td>2306.081623</td>\n",
       "      <td>118268.0</td>\n",
       "      <td>83562.0</td>\n",
       "      <td>6596.0</td>\n",
       "      <td>2955.0</td>\n",
       "      <td>1815.0</td>\n",
       "      <td>1455.0</td>\n",
       "      <td>734.0</td>\n",
       "    </tr>\n",
       "    <tr>\n",
       "      <td>6</td>\n",
       "      <td>2356.996404</td>\n",
       "      <td>144806.0</td>\n",
       "      <td>105315.0</td>\n",
       "      <td>8139.0</td>\n",
       "      <td>3262.0</td>\n",
       "      <td>2559.0</td>\n",
       "      <td>1502.0</td>\n",
       "      <td>799.0</td>\n",
       "    </tr>\n",
       "    <tr>\n",
       "      <td>7</td>\n",
       "      <td>2670.222971</td>\n",
       "      <td>97719.0</td>\n",
       "      <td>74746.0</td>\n",
       "      <td>5508.0</td>\n",
       "      <td>2282.0</td>\n",
       "      <td>1840.0</td>\n",
       "      <td>837.0</td>\n",
       "      <td>605.0</td>\n",
       "    </tr>\n",
       "    <tr>\n",
       "      <td>8</td>\n",
       "      <td>2720.901584</td>\n",
       "      <td>113781.0</td>\n",
       "      <td>97334.0</td>\n",
       "      <td>5901.0</td>\n",
       "      <td>2109.0</td>\n",
       "      <td>1955.0</td>\n",
       "      <td>1959.0</td>\n",
       "      <td>562.0</td>\n",
       "    </tr>\n",
       "    <tr>\n",
       "      <td>9</td>\n",
       "      <td>2441.534142</td>\n",
       "      <td>125097.0</td>\n",
       "      <td>90192.0</td>\n",
       "      <td>7646.0</td>\n",
       "      <td>2914.0</td>\n",
       "      <td>2200.0</td>\n",
       "      <td>1433.0</td>\n",
       "      <td>717.0</td>\n",
       "    </tr>\n",
       "    <tr>\n",
       "      <td>10</td>\n",
       "      <td>2757.649696</td>\n",
       "      <td>134810.0</td>\n",
       "      <td>106025.0</td>\n",
       "      <td>6689.0</td>\n",
       "      <td>3028.0</td>\n",
       "      <td>1898.0</td>\n",
       "      <td>1578.0</td>\n",
       "      <td>663.0</td>\n",
       "    </tr>\n",
       "    <tr>\n",
       "      <td>11</td>\n",
       "      <td>2648.565944</td>\n",
       "      <td>NaN</td>\n",
       "      <td>NaN</td>\n",
       "      <td>NaN</td>\n",
       "      <td>NaN</td>\n",
       "      <td>NaN</td>\n",
       "      <td>NaN</td>\n",
       "      <td>NaN</td>\n",
       "    </tr>\n",
       "    <tr>\n",
       "      <td>12</td>\n",
       "      <td>3105.836356</td>\n",
       "      <td>96185.0</td>\n",
       "      <td>71186.0</td>\n",
       "      <td>4455.0</td>\n",
       "      <td>1840.0</td>\n",
       "      <td>1100.0</td>\n",
       "      <td>715.0</td>\n",
       "      <td>449.0</td>\n",
       "    </tr>\n",
       "    <tr>\n",
       "      <td>13</td>\n",
       "      <td>2059.347912</td>\n",
       "      <td>111824.0</td>\n",
       "      <td>90412.0</td>\n",
       "      <td>4247.0</td>\n",
       "      <td>1365.0</td>\n",
       "      <td>1210.0</td>\n",
       "      <td>778.0</td>\n",
       "      <td>457.0</td>\n",
       "    </tr>\n",
       "    <tr>\n",
       "      <td>14</td>\n",
       "      <td>2549.081035</td>\n",
       "      <td>120735.0</td>\n",
       "      <td>80444.0</td>\n",
       "      <td>5919.0</td>\n",
       "      <td>1969.0</td>\n",
       "      <td>2048.0</td>\n",
       "      <td>1626.0</td>\n",
       "      <td>596.0</td>\n",
       "    </tr>\n",
       "  </tbody>\n",
       "</table>\n",
       "</div>"
      ],
      "text/plain": [
       "    Spend [USD]  # of Impressions     Reach  # of Website Clicks  \\\n",
       "0   2436.124529           90572.0   75440.0               4150.0   \n",
       "1   2621.043006          129612.0   95667.0               6387.0   \n",
       "2   2427.021083          132803.0  121762.0               6887.0   \n",
       "3   2565.414978          120570.0  104011.0               6478.0   \n",
       "4   2648.683326           95822.0   69059.0               4532.0   \n",
       "5   2306.081623          118268.0   83562.0               6596.0   \n",
       "6   2356.996404          144806.0  105315.0               8139.0   \n",
       "7   2670.222971           97719.0   74746.0               5508.0   \n",
       "8   2720.901584          113781.0   97334.0               5901.0   \n",
       "9   2441.534142          125097.0   90192.0               7646.0   \n",
       "10  2757.649696          134810.0  106025.0               6689.0   \n",
       "11  2648.565944               NaN       NaN                  NaN   \n",
       "12  3105.836356           96185.0   71186.0               4455.0   \n",
       "13  2059.347912          111824.0   90412.0               4247.0   \n",
       "14  2549.081035          120735.0   80444.0               5919.0   \n",
       "\n",
       "    # of Searches  # of View Content  # of Add to Cart  # of Purchase  \n",
       "0          1657.0             1541.0             566.0          383.0  \n",
       "1          2265.0             1563.0            1577.0          644.0  \n",
       "2          3100.0             2048.0            1381.0          639.0  \n",
       "3          2579.0             2083.0            1650.0          649.0  \n",
       "4          1823.0             1220.0             940.0          455.0  \n",
       "5          2955.0             1815.0            1455.0          734.0  \n",
       "6          3262.0             2559.0            1502.0          799.0  \n",
       "7          2282.0             1840.0             837.0          605.0  \n",
       "8          2109.0             1955.0            1959.0          562.0  \n",
       "9          2914.0             2200.0            1433.0          717.0  \n",
       "10         3028.0             1898.0            1578.0          663.0  \n",
       "11            NaN                NaN               NaN            NaN  \n",
       "12         1840.0             1100.0             715.0          449.0  \n",
       "13         1365.0             1210.0             778.0          457.0  \n",
       "14         1969.0             2048.0            1626.0          596.0  "
      ]
     },
     "execution_count": 10,
     "metadata": {},
     "output_type": "execute_result"
    }
   ],
   "source": [
    "# bakarsak 12. satirda NaN value gorebiliriz\n",
    "\n",
    "num_control.head(15)"
   ]
  },
  {
   "cell_type": "markdown",
   "metadata": {},
   "source": [
    "Fill the control dataframe values NaN value with KNNImputer."
   ]
  },
  {
   "cell_type": "code",
   "execution_count": 11,
   "metadata": {},
   "outputs": [
    {
     "data": {
      "text/html": [
       "<div>\n",
       "<style scoped>\n",
       "    .dataframe tbody tr th:only-of-type {\n",
       "        vertical-align: middle;\n",
       "    }\n",
       "\n",
       "    .dataframe tbody tr th {\n",
       "        vertical-align: top;\n",
       "    }\n",
       "\n",
       "    .dataframe thead th {\n",
       "        text-align: right;\n",
       "    }\n",
       "</style>\n",
       "<table border=\"1\" class=\"dataframe\">\n",
       "  <thead>\n",
       "    <tr style=\"text-align: right;\">\n",
       "      <th></th>\n",
       "      <th>Spend [USD]</th>\n",
       "      <th># of Impressions</th>\n",
       "      <th>Reach</th>\n",
       "      <th># of Website Clicks</th>\n",
       "      <th># of Searches</th>\n",
       "      <th># of View Content</th>\n",
       "      <th># of Add to Cart</th>\n",
       "      <th># of Purchase</th>\n",
       "    </tr>\n",
       "  </thead>\n",
       "  <tbody>\n",
       "    <tr>\n",
       "      <td>0</td>\n",
       "      <td>2436.124529</td>\n",
       "      <td>90572.0</td>\n",
       "      <td>75440.0</td>\n",
       "      <td>4150.0</td>\n",
       "      <td>1657.0</td>\n",
       "      <td>1541.0</td>\n",
       "      <td>566.0</td>\n",
       "      <td>383.0</td>\n",
       "    </tr>\n",
       "    <tr>\n",
       "      <td>1</td>\n",
       "      <td>2621.043006</td>\n",
       "      <td>129612.0</td>\n",
       "      <td>95667.0</td>\n",
       "      <td>6387.0</td>\n",
       "      <td>2265.0</td>\n",
       "      <td>1563.0</td>\n",
       "      <td>1577.0</td>\n",
       "      <td>644.0</td>\n",
       "    </tr>\n",
       "    <tr>\n",
       "      <td>2</td>\n",
       "      <td>2427.021083</td>\n",
       "      <td>132803.0</td>\n",
       "      <td>121762.0</td>\n",
       "      <td>6887.0</td>\n",
       "      <td>3100.0</td>\n",
       "      <td>2048.0</td>\n",
       "      <td>1381.0</td>\n",
       "      <td>639.0</td>\n",
       "    </tr>\n",
       "    <tr>\n",
       "      <td>3</td>\n",
       "      <td>2565.414978</td>\n",
       "      <td>120570.0</td>\n",
       "      <td>104011.0</td>\n",
       "      <td>6478.0</td>\n",
       "      <td>2579.0</td>\n",
       "      <td>2083.0</td>\n",
       "      <td>1650.0</td>\n",
       "      <td>649.0</td>\n",
       "    </tr>\n",
       "    <tr>\n",
       "      <td>4</td>\n",
       "      <td>2648.683326</td>\n",
       "      <td>95822.0</td>\n",
       "      <td>69059.0</td>\n",
       "      <td>4532.0</td>\n",
       "      <td>1823.0</td>\n",
       "      <td>1220.0</td>\n",
       "      <td>940.0</td>\n",
       "      <td>455.0</td>\n",
       "    </tr>\n",
       "  </tbody>\n",
       "</table>\n",
       "</div>"
      ],
      "text/plain": [
       "   Spend [USD]  # of Impressions     Reach  # of Website Clicks  \\\n",
       "0  2436.124529           90572.0   75440.0               4150.0   \n",
       "1  2621.043006          129612.0   95667.0               6387.0   \n",
       "2  2427.021083          132803.0  121762.0               6887.0   \n",
       "3  2565.414978          120570.0  104011.0               6478.0   \n",
       "4  2648.683326           95822.0   69059.0               4532.0   \n",
       "\n",
       "   # of Searches  # of View Content  # of Add to Cart  # of Purchase  \n",
       "0         1657.0             1541.0             566.0          383.0  \n",
       "1         2265.0             1563.0            1577.0          644.0  \n",
       "2         3100.0             2048.0            1381.0          639.0  \n",
       "3         2579.0             2083.0            1650.0          649.0  \n",
       "4         1823.0             1220.0             940.0          455.0  "
      ]
     },
     "execution_count": 11,
     "metadata": {},
     "output_type": "execute_result"
    }
   ],
   "source": [
    "# control dataframe degerleri NaN value yu KNNImputer ile dolduralım\n",
    "\n",
    "num_control = fill_NaNValue(num_control)\n",
    "num_control.head()"
   ]
  },
  {
   "cell_type": "markdown",
   "metadata": {},
   "source": [
    "Let's combine categorical and numerical variables with the concept."
   ]
  },
  {
   "cell_type": "code",
   "execution_count": 12,
   "metadata": {},
   "outputs": [
    {
     "data": {
      "text/html": [
       "<div>\n",
       "<style scoped>\n",
       "    .dataframe tbody tr th:only-of-type {\n",
       "        vertical-align: middle;\n",
       "    }\n",
       "\n",
       "    .dataframe tbody tr th {\n",
       "        vertical-align: top;\n",
       "    }\n",
       "\n",
       "    .dataframe thead th {\n",
       "        text-align: right;\n",
       "    }\n",
       "</style>\n",
       "<table border=\"1\" class=\"dataframe\">\n",
       "  <thead>\n",
       "    <tr style=\"text-align: right;\">\n",
       "      <th></th>\n",
       "      <th>Campaign Name</th>\n",
       "      <th>Date</th>\n",
       "      <th>Spend [USD]</th>\n",
       "      <th># of Impressions</th>\n",
       "      <th>Reach</th>\n",
       "      <th># of Website Clicks</th>\n",
       "      <th># of Searches</th>\n",
       "      <th># of View Content</th>\n",
       "      <th># of Add to Cart</th>\n",
       "      <th># of Purchase</th>\n",
       "    </tr>\n",
       "  </thead>\n",
       "  <tbody>\n",
       "    <tr>\n",
       "      <td>0</td>\n",
       "      <td>Control Campaign</td>\n",
       "      <td>2017.01.01</td>\n",
       "      <td>2436.124529</td>\n",
       "      <td>90572.0</td>\n",
       "      <td>75440.0</td>\n",
       "      <td>4150.0</td>\n",
       "      <td>1657.0</td>\n",
       "      <td>1541.0</td>\n",
       "      <td>566.0</td>\n",
       "      <td>383.0</td>\n",
       "    </tr>\n",
       "    <tr>\n",
       "      <td>1</td>\n",
       "      <td>Control Campaign</td>\n",
       "      <td>2017.01.02</td>\n",
       "      <td>2621.043006</td>\n",
       "      <td>129612.0</td>\n",
       "      <td>95667.0</td>\n",
       "      <td>6387.0</td>\n",
       "      <td>2265.0</td>\n",
       "      <td>1563.0</td>\n",
       "      <td>1577.0</td>\n",
       "      <td>644.0</td>\n",
       "    </tr>\n",
       "    <tr>\n",
       "      <td>2</td>\n",
       "      <td>Control Campaign</td>\n",
       "      <td>2017.01.03</td>\n",
       "      <td>2427.021083</td>\n",
       "      <td>132803.0</td>\n",
       "      <td>121762.0</td>\n",
       "      <td>6887.0</td>\n",
       "      <td>3100.0</td>\n",
       "      <td>2048.0</td>\n",
       "      <td>1381.0</td>\n",
       "      <td>639.0</td>\n",
       "    </tr>\n",
       "  </tbody>\n",
       "</table>\n",
       "</div>"
      ],
      "text/plain": [
       "      Campaign Name        Date  Spend [USD]  # of Impressions     Reach  \\\n",
       "0  Control Campaign  2017.01.01  2436.124529           90572.0   75440.0   \n",
       "1  Control Campaign  2017.01.02  2621.043006          129612.0   95667.0   \n",
       "2  Control Campaign  2017.01.03  2427.021083          132803.0  121762.0   \n",
       "\n",
       "   # of Website Clicks  # of Searches  # of View Content  # of Add to Cart  \\\n",
       "0               4150.0         1657.0             1541.0             566.0   \n",
       "1               6387.0         2265.0             1563.0            1577.0   \n",
       "2               6887.0         3100.0             2048.0            1381.0   \n",
       "\n",
       "   # of Purchase  \n",
       "0          383.0  \n",
       "1          644.0  \n",
       "2          639.0  "
      ]
     },
     "execution_count": 12,
     "metadata": {},
     "output_type": "execute_result"
    }
   ],
   "source": [
    "# kategorik ve numerik degiskenleri concat ile birlestirelim.\n",
    "\n",
    "control = pd.concat([kat_control,num_control], axis = 1)\n",
    "control.head(3)"
   ]
  },
  {
   "cell_type": "markdown",
   "metadata": {},
   "source": [
    "Let's do a data type conversion."
   ]
  },
  {
   "cell_type": "code",
   "execution_count": 13,
   "metadata": {},
   "outputs": [
    {
     "name": "stdout",
     "output_type": "stream",
     "text": [
      "(30, 10)\n",
      "(30, 10)\n"
     ]
    }
   ],
   "source": [
    "# Veri Tipi Dönüşümleri\n",
    "\n",
    "control = convert_datatype(control)\n",
    "\n",
    "# boyut kontrolu yani degisken sayilarina bakalim\n",
    "print(control.shape)\n",
    "print(test.shape)"
   ]
  },
  {
   "cell_type": "code",
   "execution_count": 14,
   "metadata": {},
   "outputs": [
    {
     "name": "stdout",
     "output_type": "stream",
     "text": [
      "<class 'pandas.core.frame.DataFrame'>\n",
      "Int64Index: 30 entries, 0 to 29\n",
      "Data columns (total 10 columns):\n",
      "Campaign Name          30 non-null object\n",
      "Date                   30 non-null object\n",
      "Spend [USD]            30 non-null float64\n",
      "# of Impressions       30 non-null int64\n",
      "Reach                  30 non-null int64\n",
      "# of Website Clicks    30 non-null int64\n",
      "# of Searches          30 non-null int64\n",
      "# of View Content      30 non-null int64\n",
      "# of Add to Cart       30 non-null int64\n",
      "# of Purchase          30 non-null int64\n",
      "dtypes: float64(1), int64(7), object(2)\n",
      "memory usage: 2.6+ KB\n",
      "None\n",
      "<class 'pandas.core.frame.DataFrame'>\n",
      "RangeIndex: 30 entries, 0 to 29\n",
      "Data columns (total 10 columns):\n",
      "Campaign Name          30 non-null object\n",
      "Date                   30 non-null object\n",
      "Spend [USD]            30 non-null float64\n",
      "# of Impressions       30 non-null int64\n",
      "Reach                  30 non-null int64\n",
      "# of Website Clicks    30 non-null int64\n",
      "# of Searches          30 non-null int64\n",
      "# of View Content      30 non-null int64\n",
      "# of Add to Cart       30 non-null int64\n",
      "# of Purchase          30 non-null int64\n",
      "dtypes: float64(1), int64(7), object(2)\n",
      "memory usage: 2.5+ KB\n",
      "None\n"
     ]
    }
   ],
   "source": [
    "# info kontrolu yapalim\n",
    "\n",
    "print(control.info())\n",
    "print(test.info())"
   ]
  },
  {
   "cell_type": "markdown",
   "metadata": {},
   "source": [
    "## 4. Preparing Data for Hypothesis Testing (A/B Test)\n",
    "\n",
    "Let's create a feature with the help of functions and create a feature for visualization and prepare it."
   ]
  },
  {
   "cell_type": "code",
   "execution_count": 15,
   "metadata": {},
   "outputs": [
    {
     "data": {
      "text/html": [
       "<div>\n",
       "<style scoped>\n",
       "    .dataframe tbody tr th:only-of-type {\n",
       "        vertical-align: middle;\n",
       "    }\n",
       "\n",
       "    .dataframe tbody tr th {\n",
       "        vertical-align: top;\n",
       "    }\n",
       "\n",
       "    .dataframe thead th {\n",
       "        text-align: right;\n",
       "    }\n",
       "</style>\n",
       "<table border=\"1\" class=\"dataframe\">\n",
       "  <thead>\n",
       "    <tr style=\"text-align: right;\">\n",
       "      <th></th>\n",
       "      <th># of Purchase</th>\n",
       "      <th>Website Click Through Rate</th>\n",
       "      <th>Cost per Action</th>\n",
       "      <th>Conversion Rate</th>\n",
       "      <th>Group</th>\n",
       "    </tr>\n",
       "  </thead>\n",
       "  <tbody>\n",
       "    <tr>\n",
       "      <td>0</td>\n",
       "      <td>383</td>\n",
       "      <td>4.581990</td>\n",
       "      <td>0.024640</td>\n",
       "      <td>2382.385542</td>\n",
       "      <td>A (MaximumBidding)</td>\n",
       "    </tr>\n",
       "    <tr>\n",
       "      <td>1</td>\n",
       "      <td>644</td>\n",
       "      <td>4.927784</td>\n",
       "      <td>0.018452</td>\n",
       "      <td>2224.017536</td>\n",
       "      <td>A (MaximumBidding)</td>\n",
       "    </tr>\n",
       "    <tr>\n",
       "      <td>2</td>\n",
       "      <td>639</td>\n",
       "      <td>5.185877</td>\n",
       "      <td>0.016526</td>\n",
       "      <td>2132.394366</td>\n",
       "      <td>A (MaximumBidding)</td>\n",
       "    </tr>\n",
       "  </tbody>\n",
       "</table>\n",
       "</div>"
      ],
      "text/plain": [
       "   # of Purchase  Website Click Through Rate  Cost per Action  \\\n",
       "0            383                    4.581990         0.024640   \n",
       "1            644                    4.927784         0.018452   \n",
       "2            639                    5.185877         0.016526   \n",
       "\n",
       "   Conversion Rate               Group  \n",
       "0      2382.385542  A (MaximumBidding)  \n",
       "1      2224.017536  A (MaximumBidding)  \n",
       "2      2132.394366  A (MaximumBidding)  "
      ]
     },
     "execution_count": 15,
     "metadata": {},
     "output_type": "execute_result"
    }
   ],
   "source": [
    "# fonk yardimiyla feature uretelim\n",
    "control, test = feature_engineering(control, test)\n",
    "\n",
    "\n",
    "# fonk yardimiyla gorsellestirme icin feature uretip hazirlik\n",
    "AB, control_nop, test_nop = data_prepare_for_visualization(control, test)\n",
    "AB.head(3)"
   ]
  },
  {
   "cell_type": "markdown",
   "metadata": {},
   "source": [
    "Let's look at the numbers A and B."
   ]
  },
  {
   "cell_type": "code",
   "execution_count": 16,
   "metadata": {},
   "outputs": [
    {
     "data": {
      "text/plain": [
       "A (MaximumBidding)    30\n",
       "B (AverageBidding)    30\n",
       "Name: Group, dtype: int64"
      ]
     },
     "execution_count": 16,
     "metadata": {},
     "output_type": "execute_result"
    }
   ],
   "source": [
    "# A ve B sayilarina bakalim\n",
    "\n",
    "AB[\"Group\"].value_counts()"
   ]
  },
  {
   "cell_type": "markdown",
   "metadata": {},
   "source": [
    "### 4.1. Website Click Through Rate (CTR)\n",
    "- It is a rate that shows how often the users who saw the ad CLICK the ad.\n",
    "- Number of Ad Clicks / Number of Ad Displays\n",
    "- Example: 5 clicks, CTR at 100 impressions = 5%\n",
    "\n",
    "- ##### Use visualizations to compare test and control group metrics, such as Website Click Through Rate, Cost per Action, and Conversion Rates in addition to Purchase numbers."
   ]
  },
  {
   "cell_type": "code",
   "execution_count": 17,
   "metadata": {},
   "outputs": [
    {
     "data": {
      "image/png": "[encoded data removed]",
      "text/plain": [
       "<Figure size 1296x648 with 4 Axes>"
      ]
     },
     "metadata": {
      "needs_background": "light"
     },
     "output_type": "display_data"
    }
   ],
   "source": [
    "# - Reklamı GÖREN kullanıcıların, reklamı ne sıklıkta TIKLADIKLARINI gösteren bir orandır.\n",
    "# - Reklam Tıklanma Sayısı/ Reklam Gösterilem Sayısı\n",
    "# - Örnek: 5 tıklama, 100 gösterimde CTR= %5\n",
    "\n",
    "cols = [\"Website Click Through Rate\",\"Cost per Action\",\"Conversion Rate\",\"# of Purchase\"]\n",
    "show_boxplot(2,2,[0,1],cols,(18,9))"
   ]
  },
  {
   "cell_type": "markdown",
   "metadata": {},
   "source": [
    "Let's create our df for AB test."
   ]
  },
  {
   "cell_type": "code",
   "execution_count": 18,
   "metadata": {},
   "outputs": [
    {
     "data": {
      "text/html": [
       "<div>\n",
       "<style scoped>\n",
       "    .dataframe tbody tr th:only-of-type {\n",
       "        vertical-align: middle;\n",
       "    }\n",
       "\n",
       "    .dataframe tbody tr th {\n",
       "        vertical-align: top;\n",
       "    }\n",
       "\n",
       "    .dataframe thead th {\n",
       "        text-align: right;\n",
       "    }\n",
       "</style>\n",
       "<table border=\"1\" class=\"dataframe\">\n",
       "  <thead>\n",
       "    <tr style=\"text-align: right;\">\n",
       "      <th></th>\n",
       "      <th>A</th>\n",
       "      <th>B</th>\n",
       "    </tr>\n",
       "  </thead>\n",
       "  <tbody>\n",
       "    <tr>\n",
       "      <td>0</td>\n",
       "      <td>383</td>\n",
       "      <td>913</td>\n",
       "    </tr>\n",
       "    <tr>\n",
       "      <td>1</td>\n",
       "      <td>644</td>\n",
       "      <td>510</td>\n",
       "    </tr>\n",
       "    <tr>\n",
       "      <td>2</td>\n",
       "      <td>639</td>\n",
       "      <td>391</td>\n",
       "    </tr>\n",
       "  </tbody>\n",
       "</table>\n",
       "</div>"
      ],
      "text/plain": [
       "     A    B\n",
       "0  383  913\n",
       "1  644  510\n",
       "2  639  391"
      ]
     },
     "execution_count": 18,
     "metadata": {},
     "output_type": "execute_result"
    }
   ],
   "source": [
    "# AB testi icin df mizi olusturduk\n",
    "\n",
    "df_AB = data_prepare_for_hypothesis_testing(control_nop, test_nop)\n",
    "df_AB.head(3)"
   ]
  },
  {
   "cell_type": "markdown",
   "metadata": {},
   "source": [
    "## 5. Two Independent Sample T Test (Bağımsız İki Örneklem T Testi (A/B Testi))\n",
    "### 5.1. Assumption Check (Varsayim Kontrolu)\n",
    "#### 5.1.1. Normality Assumption (**Shapiro Test**) ~ (Normallik Varsayimi)\n",
    "\n",
    " * **H0**: Normal distribution assumption is provided.\n",
    " * **H1**: ... not provided."
   ]
  },
  {
   "cell_type": "code",
   "execution_count": 19,
   "metadata": {},
   "outputs": [
    {
     "data": {
      "text/plain": [
       "(0.9881329536437988, 0.9781011939048767)"
      ]
     },
     "execution_count": 19,
     "metadata": {},
     "output_type": "execute_result"
    }
   ],
   "source": [
    "# H0 : Normal dağılım varsayımı sağlanmaktadır.\n",
    "# H1 : ... sağlanmamaktadır.\n",
    "\n",
    "# A kismi icin kontrol\n",
    "shapiro(df_AB.A)"
   ]
  },
  {
   "cell_type": "code",
   "execution_count": 20,
   "metadata": {},
   "outputs": [
    {
     "name": "stdout",
     "output_type": "stream",
     "text": [
      "0.978 > alpha(0.05) so >>> H0 CAN'T BE REJECTED <<< (H0 hipotezi REDEDILEMEDI)\n"
     ]
    }
   ],
   "source": [
    "p_value = round(shapiro(df_AB.A)[1], 3)\n",
    "checkReject(p_value)"
   ]
  },
  {
   "cell_type": "markdown",
   "metadata": {},
   "source": [
    "**Comment**: H0 hypothesis could not be rejected because pvalue = 0.978> 0.05.\n",
    "Statistically, **it could not be rejected that the normal distribution assumption** of the data set in which the Maximum Bidding (Control Group) was measured was met.\n",
    "\n",
    "\n",
    "\n",
    "(**Yorum** : pvalue = 0.978 > 0.05 olduğu için H0 hipotezi reddedilemedi.\n",
    "İstatistiksel olarak, Maximum Bidding'in (Kontrol Group) ölçüldüğü veri setinin **normal dağılım varsayımının sağlandığı reddedilemedi.**)"
   ]
  },
  {
   "cell_type": "code",
   "execution_count": 21,
   "metadata": {},
   "outputs": [
    {
     "data": {
      "text/plain": [
       "(0.9188652038574219, 0.02506561577320099)"
      ]
     },
     "execution_count": 21,
     "metadata": {},
     "output_type": "execute_result"
    }
   ],
   "source": [
    "# B kismi icin kontrol\n",
    "shapiro(df_AB.B)"
   ]
  },
  {
   "cell_type": "code",
   "execution_count": 22,
   "metadata": {},
   "outputs": [
    {
     "name": "stdout",
     "output_type": "stream",
     "text": [
      "0.025 < alpha(0.05) so >>> H0 REJECTED <<< (H0 hipotezi REDEDILDI)\n"
     ]
    }
   ],
   "source": [
    "p_value = round(shapiro(df_AB.B)[1], 3)\n",
    "checkReject(p_value)"
   ]
  },
  {
   "cell_type": "markdown",
   "metadata": {},
   "source": [
    "**Comment**: H0 hyptothesis was rejected because pvalue = 0.025 <0.05.\n",
    "Statistically, **it could be rejected that the normal distribution assumption** of the data set in which the Maximum Bidding (Control Group) was measured was met.\n",
    "\n",
    "\n",
    "(**Yorum**: pvalue = 0.025 < 0.05 olduğu için H0 hiptotezi reddedildi.\n",
    "İstatistiksel olarak, Average Bidding'in (Test Group) ölçüldüğü veri setinin **normal dağılım varsayımının sağlandığı reddedildi.**)"
   ]
  },
  {
   "cell_type": "markdown",
   "metadata": {},
   "source": [
    "### 5.1.2. Variance Homogeneity Assumption (**Levene Testi**) ~ (Varyans Homojenliği Varsayımı)\n",
    " * **H0** : Variances are homogeneous.\n",
    " * **H1** : Variances are not homogeneous."
   ]
  },
  {
   "cell_type": "code",
   "execution_count": 23,
   "metadata": {},
   "outputs": [
    {
     "data": {
      "text/plain": [
       "LeveneResult(statistic=1.4381249270961438, pvalue=0.2353194009233704)"
      ]
     },
     "execution_count": 23,
     "metadata": {},
     "output_type": "execute_result"
    }
   ],
   "source": [
    "# **H0** : Varyanslar homojendir.\n",
    "# **H1** : Varyanslar homojen değildir.\n",
    "\n",
    "stats.levene(df_AB.A, df_AB.B)"
   ]
  },
  {
   "cell_type": "code",
   "execution_count": 24,
   "metadata": {},
   "outputs": [
    {
     "name": "stdout",
     "output_type": "stream",
     "text": [
      "0.235 > alpha(0.05) so >>> H0 CAN'T BE REJECTED <<< (H0 hipotezi REDEDILEMEDI)\n"
     ]
    }
   ],
   "source": [
    "p_value = round(stats.levene(df_AB.A, df_AB.B)[1], 3)\n",
    "checkReject(p_value)"
   ]
  },
  {
   "cell_type": "markdown",
   "metadata": {},
   "source": [
    "**Comment:** Since the pvalue = 0.235> 0.05, the H0 hypothesis, that is, **the variances were not statistically rejected as homogeneous.**\n",
    "\n",
    "(**Yorum:** pvalue = 0.235 > 0.05 olduğu için H0 hipotezi yani **varyansların homojen olduğu istatistiksel olarak reddedilemedi.**)"
   ]
  },
  {
   "cell_type": "markdown",
   "metadata": {},
   "source": [
    "### 5.1.3. Nonparametric Independent Two-Sample T Test (**Mannwihtneyu**) ~ (Nonparametrik Bağımsız İki Örneklem T Testi)\n",
    "\n",
    "- Since the normality of the distribution of the data set in which Average Bidding (Test Group) was measured was rejected, the NonParametric Independent Two-Sample T Test was applied for the Hypothesis Test.\n",
    "\n",
    "**Hypothesis:**\n",
    "\n",
    " * **H0** : When it comes to Maximum Bidding and Average Bidding, there is no statistically significant difference between the purchasing amounts of the two groups. ($\\mu_1 = \\mu_2$)\n",
    "\n",
    " * **H1** : ... there is a difference ($\\mu_1 \\neq \\mu_2$)"
   ]
  },
  {
   "cell_type": "code",
   "execution_count": 25,
   "metadata": {},
   "outputs": [
    {
     "data": {
      "text/plain": [
       "MannwhitneyuResult(statistic=391.0, pvalue=0.19352350307853528)"
      ]
     },
     "execution_count": 25,
     "metadata": {},
     "output_type": "execute_result"
    }
   ],
   "source": [
    "# Average Biddingin (Test Group) ölçüldüğü veri setinin dağılımının normalliği reddedildiğinden, Hipotez Testi için NonParametrik Bağımsız İki Örneklem T Testi uygulanmıştır.\n",
    "\n",
    "# Hipotez : \n",
    "# **H0**: Maximum Bidding ile Average Bidding söz konusu olduğunda iki grubun satın alma miktarları arasında istatistiksel olarak anlamlı fark yoktur. (m1 = m2)\n",
    "\n",
    "# **H1**: ... fark vardır (M1 != M2)\n",
    "\n",
    "stats.mannwhitneyu(df_AB[\"A\"], df_AB[\"B\"])"
   ]
  },
  {
   "cell_type": "code",
   "execution_count": 26,
   "metadata": {},
   "outputs": [
    {
     "name": "stdout",
     "output_type": "stream",
     "text": [
      "0.194 > alpha(0.05) so >>> H0 CAN'T BE REJECTED <<< (H0 hipotezi REDEDILEMEDI)\n"
     ]
    }
   ],
   "source": [
    "p_value = round(stats.mannwhitneyu(df_AB[\"A\"], df_AB[\"B\"])[1], 3)\n",
    "checkReject(p_value)"
   ]
  },
  {
   "cell_type": "markdown",
   "metadata": {},
   "source": [
    "**Comment: ** The H0 hypothesis **could not be rejected** because the result of the Nonparametric Two Independent Samples T Test was pvalue = 0.19 > 0.05.\n",
    "\n",
    "So, we could not reject that there was no statistically significant difference between the purchase amounts of the Average Bidding and Maximum Bidding systems.\n",
    "\n",
    "\n",
    "\n",
    "(**Yorum :** Nonparametrik Bağımsız İki Örneklerm T Testi sonucu pvalue = 0.19 > 0.05 olduğu için H0 hipotezi **reddedilemedi.** \n",
    "Yani, Average Bidding ve Maximum Bidding sistemlerinin satın alma miktarları arasında istatistiksel olarak anlamlı fark olmadığını reddedemedik.)"
   ]
  },
  {
   "cell_type": "markdown",
   "metadata": {},
   "source": [
    "## 6. Conclusion and Evaluation \n",
    "\n",
    "\n",
    "##### You should answer the following questions in your presentation:\n",
    "\n",
    "\n",
    "**1. How would you define the hypothesis of this A/B test ?**\n",
    "\n",
    "   **Hipotez:**\n",
    "   - **H0** : When it comes to Maximum Bidding and Average Bidding, there is no statistically significant difference between the purchase amounts of the two groups. \n",
    "    - (Maximum Bidding ile Average Bidding söz konusu olduğunda iki grubun satın alma miktarları arasında istatistiksel olarak anlamlı fark yoktur.)\n",
    "    \n",
    "   - **H1** : ... there is a difference (fark vardır)\n",
    "\n",
    "   \n",
    "**2. Can we conclude statistically significant results?**\n",
    "\n",
    "   - I observed that there was no statistically significant difference between the amount of purchases made with the Maximum Bidding and Average Bidding methods, since the pvalue value for the ** Nonparametric Independent Two-Sample T Test ** I performed using the Test and Control group data set was greater than 0.05. \n",
    "    - (Test ve Kontrol grubu veri setini kullanarak gerçekleştirmiş olduğum **Nonparametrik Bağımsız İki Örneklem T Testi** için pvalue değeri 0.05'ten büyük olduğundan, Maximum Bidding ve Average Bidding metodları ile yapılan satın alma miktarları arasında istatistiksel olarak anlamlı bir fark çıkmadığını gözlemledim.)\n",
    "\n",
    "\n",
    "**3. Which statistical test did you use, and why?**\n",
    "    \n",
    "   - I used the nonparametric Independent Two Sample T Test (Mannwihtneyu) statistical method. Because the return of a new system is wanted to be tested. For this purpose, user behaviors are examined and statistically compared with each other with the Control Group, which uses the old system with equal number of observations, and the Test Group, which uses the new system. Since these 2 groups will use different systems independently of each other, Independent Two-Sample T Test was used.\n",
    "    - (Nonparametrik Bağımsız İki Örneklem T Testi (Mannwihtneyu) istatistiksel metodunu kullandım. Çünkü, yeni bir sistemin getirisi test edilmek isteniyor. Bunun için eşit gözlem sayılarını içeren eski sistemi kullanan Kontrol Grubu ve yeni sistemi kullanan Test Grubu ile kullanıcı davranışları inceleniyor ve birbirleri ile istatistiksel olarak kıyaslanıyor. Bu 2 Group birbirinden bağımsız farklı sistemleri kullanacağı için, Bağımsız İki Örneklem T Testi kullanıldı.)\n",
    "   \n",
    "    \n",
    "**4. Based on your answer to Question 2, what would be your recommendation to client?**\n",
    "\n",
    "   - This test was conducted on datasets containing 30 observations. In accordance with the Law of Large Numbers, as the number of observations increases, the tests performed will produce the most realistic results. Therefore, since there is no statistically significant difference between the returns of the old and new systems, it would be better to examine the systems for a while by increasing the number of observations in the data set. In other words, repeating this hypothesis test with new data sets by increasing the amount of purchases in both systems and continuing to collect data can give us a statistically significant difference and this situation should be tested.\n",
    "    - (Bu test 30 ar gözlem içeren veri setleri üzerinde yapılmıştır. Büyük Sayılar Yasası gereği, gözlem sayısı çoğaldıkça, yapılan testler gerçeğe en yakın sonuçları üretecektir. Bu nedenle eski ve yeni sistemlerin getirileri arasında istatistiksel olarak anlamlı bir fark çıkmadığı için, veri setindeki gözlem sayısını artırarak sistemleri bir süre daha incelemek iyi olacaktır. Yani, her iki sistemdeki satın alma miktarlarının artması sağlanarak ve veri toplamaya devam edilerek, yeni veri setleri ile bu hipotez testinin tekrarlanması, bize istatistiksel olarak anlamlı fark çıkartabilir ve bu durum denenmelidir.)\n",
    "\n",
    "\n",
    "\n",
    "## HINTS\n",
    "**Explain the concept of statistical testing for a non-technical audience.**\n",
    "  \n",
    "  - When we develop a system technically by investing time and resources, we want to measure whether the new system is a better system than the old one, whether the work we do is worth the result we have, in short, whether the stone we throw is worth the frog we frightened. It is possible to talk about this situation with numbers, net values and statistics. For example, here we divide our data into 2 equal parts. We measured the performance of the old system with the first of these parts and the performance of the new system with the second, and these measurements produced some mathematical values for us. By comparing these values with some statistical assumptions (such as comparing the pvalue value with 0.05), we were able to determine whether there was a statistical difference between the performance of these systems and performed a statistical test.\n",
    "   - (Zaman ve kaynak yatırımı yaparak teknik olarak bir sistem geliştirdiğimizde, yeni sistemin eskisine oranla daha iyi bir sistem olup olmadığını, yaptığımız işin aldığımız sonuca deyip değmediğini, kısacası attığımız taşın ürküttüğümüz kurbağaya değip değmediğini ölçmek isteriz. Bu durumu sayılarla, net değerlerle, istatistiki olarak konuşabilmemiz mümkündür. Örneğin burada, elimizdeki verileri 2 eşit parçaya böldük. Bu parçalardan ilki ile eski sistemin performansını, ikincisi ile yeni sistemin performansını ölçtük ve bu ölçümler bize matematiksel bazı değerler üretti. İstatistiki bazı varsayımlar ile (örneğin pvalue değerini 0.05 ile kıyaslamak gibi) bu değerleri kıyaslayarak, bu sistemlerin performansı arasında istatistiki olarak bir fark olup olmadığını belirleyebildik ve istatistiki bir test gerçekleştirmiş olduk.)\n",
    "\n",
    "\n",
    "\n",
    "**Use visualizations to compare test and control group metrics, such as Website Click Through Rate, Cost per Action, and Conversion Rates in addition to Purchase numbers.**\n",
    "\n",
    "  - For the newly derived \"Website Click Through Rate\", \"Cost per Action\", \"Conversion Rates\" variables and the \"Purchase numbers\" variable we have, the above visualization charts in Test and Control groups are below.\n",
    "   - (Yeni türetilmiş olan \"Website Click Through Rate\", \"Cost per Action\", \"Conversion Rates\" değişkenleri ve elimizde olan \"Purchase numbers\" değişkeni için, Test ve Kontrol Grouplarında yukarıda almış olduğu görselleştirme grafikleri aşağıdadır.)\n",
    "  \n",
    "  \n",
    " \n",
    "## 7. Recommendation to Client\n",
    "\n",
    "- When the new system is compared with the old system, it is seen that the number of purchases does not change, the cost increases and the clicks decrease.\n",
    " - (Yeni sistem ile eski sistem karşılaştırıldığında, satın alma sayısının değişmediği, maliyetin arttığı ve tıklamanın düştüğü görülmektedir.)\n",
    " \n",
    "- When the Conversion Rate is based on the purchasing status among those who add to the basket and those who look at the product details, a comparison is made in favor of the test group.\n",
    " - (Conversion Rate, sepete ekleyenler ve ürün detayına bakanlar arasından satın alma durumuna göre baz alınıp karşılaştırma yapıldığında test grubu lehine sonuç alınmıştır.)\n",
    " \n",
    "- **Therefore, retesting is recommended by collecting more data. If there is no such opportunity or time, it is recommended to continue with the existing bidding system.**\n",
    " - **(Bu nedenle daha fazla veri toplayarak tekrar test yapılması önerilmektedir. Böyle bir imkan ya da vakit yoksa mevcut bidding sistemi ile devam etmesi önerilir.)**\n",
    "\n",
    "![image.png](image.png)"
   ]
  },
  {
   "cell_type": "code",
   "execution_count": null,
   "metadata": {},
   "outputs": [],
   "source": []
  }
 ],
 "metadata": {
  "kernelspec": {
   "display_name": "Python 3",
   "language": "python",
   "name": "python3"
  },
  "language_info": {
   "codemirror_mode": {
    "name": "ipython",
    "version": 3
   },
   "file_extension": ".py",
   "mimetype": "text/x-python",
   "name": "python",
   "nbconvert_exporter": "python",
   "pygments_lexer": "ipython3",
   "version": "3.7.4"
  }
 },
 "nbformat": 4,
 "nbformat_minor": 4
}
